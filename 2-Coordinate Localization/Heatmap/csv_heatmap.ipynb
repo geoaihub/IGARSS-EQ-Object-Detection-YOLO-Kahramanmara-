{
  "nbformat": 4,
  "nbformat_minor": 0,
  "metadata": {
    "colab": {
      "provenance": []
    },
    "kernelspec": {
      "name": "python3",
      "display_name": "Python 3"
    },
    "language_info": {
      "name": "python"
    }
  },
  "cells": [
    {
      "cell_type": "markdown",
      "source": [
        "<h1 align=center><b>Collapsed Building Heatmap with Folium</b></font></h1>\n",
        "\n",
        "<br>\n",
        "\n",
        "<p align=\"center\">\n",
        "    <img src=\"https://drive.google.com/uc?id=1dx98iliCTjuonFHX_orRz20O8S7CeTnW\" height=300 width=2000 alt=\"GitHub\">\n",
        "</p>\n",
        "\n",
        "<small>Picture Source: <a href=\"https://github.com/doguilmak\">Doğu İlmak</a></small>\n",
        "\n",
        "<br>\n",
        "\n",
        "Folium is a Python library that makes it easy to create interactive maps and visualizations on web browsers. It's built on top of Leaflet, which is a popular JavaScript library for interactive maps. Folium allows you to generate maps with various features, including markers, popups, choropleths, and heatmaps, which can be displayed in an interactive HTML format.\n",
        "\n",
        "<br>\n",
        "\n",
        "Here's a brief overview of Folium's key features and concepts:\n",
        "\n",
        "1.  **Map Creation**: Folium provides a simple way to create maps by specifying the center's latitude and longitude and an initial zoom level. You can create a basic map with just a single line of code.\n",
        "    \n",
        "2.  **Markers and Popups**: You can add markers to the map to indicate specific points of interest. Each marker can have a popup that displays additional information when clicked.\n",
        "    \n",
        "3.  **Choropleths**: Folium supports choropleth maps, where you can color areas (such as countries or regions) based on a numerical value. This is useful for visualizing data that varies geographically.\n",
        "    \n",
        "4.  **Heatmaps**: Heatmaps are a great way to visualize the density or intensity of data points on a map. Folium's `HeatMap` plugin allows you to create heatmaps from a list of coordinates.\n",
        "    \n",
        "5.  **Layer Control**: You can add multiple layers to a map and provide a control to toggle between them. This is particularly useful when you want to display different data sets or overlays on the same map.\n",
        "    \n",
        "6.  **Plugins and Extensions**: Folium has a variety of plugins and extensions that allow you to extend its functionality. These include plugins for clustering markers, drawing shapes, and more.\n",
        "    \n",
        "7.  **Export to HTML**: Once you've created your map with Folium, you can save it as an interactive HTML file. This HTML file can be opened in a web browser to interact with the map.\n",
        "    \n",
        "8.  **Integration with Pandas**: Folium seamlessly integrates with Pandas DataFrames, making it easy to visualize data directly from your data structures.\n",
        "\n",
        "<br>\n",
        "\n",
        "Folium is particularly useful when you want to share interactive maps with others without requiring them to install specialized software. It's widely used for visualizing geospatial data, creating interactive dashboards, and presenting insights in a visually engaging manner.\n",
        "\n",
        "Keep in mind that Folium is just one of several tools available for geospatial visualization in Python. Depending on your needs and the complexity of your analysis, you might also explore other libraries like geopandas for more advanced geospatial capabilities."
      ],
      "metadata": {
        "id": "RRuWFvXt8UCa"
      }
    },
    {
      "cell_type": "code",
      "source": [
        "import folium\n",
        "from folium.plugins import HeatMap\n",
        "import pandas as pd\n",
        "\n",
        "data = pd.read_csv('/content/collapsed_data.csv')"
      ],
      "metadata": {
        "id": "iw5hQAzxDmKO"
      },
      "execution_count": 1,
      "outputs": []
    },
    {
      "cell_type": "code",
      "source": [
        "data.head()"
      ],
      "metadata": {
        "colab": {
          "base_uri": "https://localhost:8080/",
          "height": 206
        },
        "id": "QUWEKuPvDuQN",
        "outputId": "b24a9409-a7b7-4dc2-a0a5-b325d2a6db63"
      },
      "execution_count": 2,
      "outputs": [
        {
          "output_type": "execute_result",
          "data": {
            "text/plain": [
              "       Image  ID      Class  Longitude   Latitude\n",
              "0  image_298   0  collapsed  36.107275  36.225954\n",
              "1  image_585   8  collapsed  36.144847  36.210034\n",
              "2  image_244   1  collapsed  36.106630  36.229833\n",
              "3  image_244   2  collapsed  36.106798  36.230049\n",
              "4  image_244   3  collapsed  36.106123  36.229266"
            ],
            "text/html": [
              "\n",
              "  <div id=\"df-75579a32-d96d-42c8-a364-ae1f8150be9c\" class=\"colab-df-container\">\n",
              "    <div>\n",
              "<style scoped>\n",
              "    .dataframe tbody tr th:only-of-type {\n",
              "        vertical-align: middle;\n",
              "    }\n",
              "\n",
              "    .dataframe tbody tr th {\n",
              "        vertical-align: top;\n",
              "    }\n",
              "\n",
              "    .dataframe thead th {\n",
              "        text-align: right;\n",
              "    }\n",
              "</style>\n",
              "<table border=\"1\" class=\"dataframe\">\n",
              "  <thead>\n",
              "    <tr style=\"text-align: right;\">\n",
              "      <th></th>\n",
              "      <th>Image</th>\n",
              "      <th>ID</th>\n",
              "      <th>Class</th>\n",
              "      <th>Longitude</th>\n",
              "      <th>Latitude</th>\n",
              "    </tr>\n",
              "  </thead>\n",
              "  <tbody>\n",
              "    <tr>\n",
              "      <th>0</th>\n",
              "      <td>image_298</td>\n",
              "      <td>0</td>\n",
              "      <td>collapsed</td>\n",
              "      <td>36.107275</td>\n",
              "      <td>36.225954</td>\n",
              "    </tr>\n",
              "    <tr>\n",
              "      <th>1</th>\n",
              "      <td>image_585</td>\n",
              "      <td>8</td>\n",
              "      <td>collapsed</td>\n",
              "      <td>36.144847</td>\n",
              "      <td>36.210034</td>\n",
              "    </tr>\n",
              "    <tr>\n",
              "      <th>2</th>\n",
              "      <td>image_244</td>\n",
              "      <td>1</td>\n",
              "      <td>collapsed</td>\n",
              "      <td>36.106630</td>\n",
              "      <td>36.229833</td>\n",
              "    </tr>\n",
              "    <tr>\n",
              "      <th>3</th>\n",
              "      <td>image_244</td>\n",
              "      <td>2</td>\n",
              "      <td>collapsed</td>\n",
              "      <td>36.106798</td>\n",
              "      <td>36.230049</td>\n",
              "    </tr>\n",
              "    <tr>\n",
              "      <th>4</th>\n",
              "      <td>image_244</td>\n",
              "      <td>3</td>\n",
              "      <td>collapsed</td>\n",
              "      <td>36.106123</td>\n",
              "      <td>36.229266</td>\n",
              "    </tr>\n",
              "  </tbody>\n",
              "</table>\n",
              "</div>\n",
              "    <div class=\"colab-df-buttons\">\n",
              "\n",
              "  <div class=\"colab-df-container\">\n",
              "    <button class=\"colab-df-convert\" onclick=\"convertToInteractive('df-75579a32-d96d-42c8-a364-ae1f8150be9c')\"\n",
              "            title=\"Convert this dataframe to an interactive table.\"\n",
              "            style=\"display:none;\">\n",
              "\n",
              "  <svg xmlns=\"http://www.w3.org/2000/svg\" height=\"24px\" viewBox=\"0 -960 960 960\">\n",
              "    <path d=\"M120-120v-720h720v720H120Zm60-500h600v-160H180v160Zm220 220h160v-160H400v160Zm0 220h160v-160H400v160ZM180-400h160v-160H180v160Zm440 0h160v-160H620v160ZM180-180h160v-160H180v160Zm440 0h160v-160H620v160Z\"/>\n",
              "  </svg>\n",
              "    </button>\n",
              "\n",
              "  <style>\n",
              "    .colab-df-container {\n",
              "      display:flex;\n",
              "      gap: 12px;\n",
              "    }\n",
              "\n",
              "    .colab-df-convert {\n",
              "      background-color: #E8F0FE;\n",
              "      border: none;\n",
              "      border-radius: 50%;\n",
              "      cursor: pointer;\n",
              "      display: none;\n",
              "      fill: #1967D2;\n",
              "      height: 32px;\n",
              "      padding: 0 0 0 0;\n",
              "      width: 32px;\n",
              "    }\n",
              "\n",
              "    .colab-df-convert:hover {\n",
              "      background-color: #E2EBFA;\n",
              "      box-shadow: 0px 1px 2px rgba(60, 64, 67, 0.3), 0px 1px 3px 1px rgba(60, 64, 67, 0.15);\n",
              "      fill: #174EA6;\n",
              "    }\n",
              "\n",
              "    .colab-df-buttons div {\n",
              "      margin-bottom: 4px;\n",
              "    }\n",
              "\n",
              "    [theme=dark] .colab-df-convert {\n",
              "      background-color: #3B4455;\n",
              "      fill: #D2E3FC;\n",
              "    }\n",
              "\n",
              "    [theme=dark] .colab-df-convert:hover {\n",
              "      background-color: #434B5C;\n",
              "      box-shadow: 0px 1px 3px 1px rgba(0, 0, 0, 0.15);\n",
              "      filter: drop-shadow(0px 1px 2px rgba(0, 0, 0, 0.3));\n",
              "      fill: #FFFFFF;\n",
              "    }\n",
              "  </style>\n",
              "\n",
              "    <script>\n",
              "      const buttonEl =\n",
              "        document.querySelector('#df-75579a32-d96d-42c8-a364-ae1f8150be9c button.colab-df-convert');\n",
              "      buttonEl.style.display =\n",
              "        google.colab.kernel.accessAllowed ? 'block' : 'none';\n",
              "\n",
              "      async function convertToInteractive(key) {\n",
              "        const element = document.querySelector('#df-75579a32-d96d-42c8-a364-ae1f8150be9c');\n",
              "        const dataTable =\n",
              "          await google.colab.kernel.invokeFunction('convertToInteractive',\n",
              "                                                    [key], {});\n",
              "        if (!dataTable) return;\n",
              "\n",
              "        const docLinkHtml = 'Like what you see? Visit the ' +\n",
              "          '<a target=\"_blank\" href=https://colab.research.google.com/notebooks/data_table.ipynb>data table notebook</a>'\n",
              "          + ' to learn more about interactive tables.';\n",
              "        element.innerHTML = '';\n",
              "        dataTable['output_type'] = 'display_data';\n",
              "        await google.colab.output.renderOutput(dataTable, element);\n",
              "        const docLink = document.createElement('div');\n",
              "        docLink.innerHTML = docLinkHtml;\n",
              "        element.appendChild(docLink);\n",
              "      }\n",
              "    </script>\n",
              "  </div>\n",
              "\n",
              "\n",
              "<div id=\"df-87bd58d7-3035-4b8a-9e47-d5bce503572e\">\n",
              "  <button class=\"colab-df-quickchart\" onclick=\"quickchart('df-87bd58d7-3035-4b8a-9e47-d5bce503572e')\"\n",
              "            title=\"Suggest charts.\"\n",
              "            style=\"display:none;\">\n",
              "\n",
              "<svg xmlns=\"http://www.w3.org/2000/svg\" height=\"24px\"viewBox=\"0 0 24 24\"\n",
              "     width=\"24px\">\n",
              "    <g>\n",
              "        <path d=\"M19 3H5c-1.1 0-2 .9-2 2v14c0 1.1.9 2 2 2h14c1.1 0 2-.9 2-2V5c0-1.1-.9-2-2-2zM9 17H7v-7h2v7zm4 0h-2V7h2v10zm4 0h-2v-4h2v4z\"/>\n",
              "    </g>\n",
              "</svg>\n",
              "  </button>\n",
              "\n",
              "<style>\n",
              "  .colab-df-quickchart {\n",
              "    background-color: #E8F0FE;\n",
              "    border: none;\n",
              "    border-radius: 50%;\n",
              "    cursor: pointer;\n",
              "    display: none;\n",
              "    fill: #1967D2;\n",
              "    height: 32px;\n",
              "    padding: 0 0 0 0;\n",
              "    width: 32px;\n",
              "  }\n",
              "\n",
              "  .colab-df-quickchart:hover {\n",
              "    background-color: #E2EBFA;\n",
              "    box-shadow: 0px 1px 2px rgba(60, 64, 67, 0.3), 0px 1px 3px 1px rgba(60, 64, 67, 0.15);\n",
              "    fill: #174EA6;\n",
              "  }\n",
              "\n",
              "  [theme=dark] .colab-df-quickchart {\n",
              "    background-color: #3B4455;\n",
              "    fill: #D2E3FC;\n",
              "  }\n",
              "\n",
              "  [theme=dark] .colab-df-quickchart:hover {\n",
              "    background-color: #434B5C;\n",
              "    box-shadow: 0px 1px 3px 1px rgba(0, 0, 0, 0.15);\n",
              "    filter: drop-shadow(0px 1px 2px rgba(0, 0, 0, 0.3));\n",
              "    fill: #FFFFFF;\n",
              "  }\n",
              "</style>\n",
              "\n",
              "  <script>\n",
              "    async function quickchart(key) {\n",
              "      const charts = await google.colab.kernel.invokeFunction(\n",
              "          'suggestCharts', [key], {});\n",
              "    }\n",
              "    (() => {\n",
              "      let quickchartButtonEl =\n",
              "        document.querySelector('#df-87bd58d7-3035-4b8a-9e47-d5bce503572e button');\n",
              "      quickchartButtonEl.style.display =\n",
              "        google.colab.kernel.accessAllowed ? 'block' : 'none';\n",
              "    })();\n",
              "  </script>\n",
              "</div>\n",
              "    </div>\n",
              "  </div>\n"
            ]
          },
          "metadata": {},
          "execution_count": 2
        }
      ]
    },
    {
      "cell_type": "code",
      "source": [
        "center_lat = data['Latitude'].mean()\n",
        "center_lon = data['Longitude'].mean()\n",
        "m = folium.Map(location=[center_lat, center_lon], zoom_start=10)\n",
        "\n",
        "heat_data = [[row['Latitude'], row['Longitude']] for index, row in data.iterrows()]\n",
        "\n",
        "HeatMap(heat_data, radius=15).add_to(m)\n",
        "m.save('heatmap.html')"
      ],
      "metadata": {
        "id": "_qXyu_kP4_-9"
      },
      "execution_count": 3,
      "outputs": []
    },
    {
      "cell_type": "code",
      "source": [
        "from google.colab import files\n",
        "files.download('/content/heatmap.html')"
      ],
      "metadata": {
        "colab": {
          "base_uri": "https://localhost:8080/",
          "height": 17
        },
        "id": "hBS-YDzyD1An",
        "outputId": "ab0c3785-1698-49b8-8d30-fca17fd1f0b4"
      },
      "execution_count": 4,
      "outputs": [
        {
          "output_type": "display_data",
          "data": {
            "text/plain": [
              "<IPython.core.display.Javascript object>"
            ],
            "application/javascript": [
              "\n",
              "    async function download(id, filename, size) {\n",
              "      if (!google.colab.kernel.accessAllowed) {\n",
              "        return;\n",
              "      }\n",
              "      const div = document.createElement('div');\n",
              "      const label = document.createElement('label');\n",
              "      label.textContent = `Downloading \"${filename}\": `;\n",
              "      div.appendChild(label);\n",
              "      const progress = document.createElement('progress');\n",
              "      progress.max = size;\n",
              "      div.appendChild(progress);\n",
              "      document.body.appendChild(div);\n",
              "\n",
              "      const buffers = [];\n",
              "      let downloaded = 0;\n",
              "\n",
              "      const channel = await google.colab.kernel.comms.open(id);\n",
              "      // Send a message to notify the kernel that we're ready.\n",
              "      channel.send({})\n",
              "\n",
              "      for await (const message of channel.messages) {\n",
              "        // Send a message to notify the kernel that we're ready.\n",
              "        channel.send({})\n",
              "        if (message.buffers) {\n",
              "          for (const buffer of message.buffers) {\n",
              "            buffers.push(buffer);\n",
              "            downloaded += buffer.byteLength;\n",
              "            progress.value = downloaded;\n",
              "          }\n",
              "        }\n",
              "      }\n",
              "      const blob = new Blob(buffers, {type: 'application/binary'});\n",
              "      const a = document.createElement('a');\n",
              "      a.href = window.URL.createObjectURL(blob);\n",
              "      a.download = filename;\n",
              "      div.appendChild(a);\n",
              "      a.click();\n",
              "      div.remove();\n",
              "    }\n",
              "  "
            ]
          },
          "metadata": {}
        },
        {
          "output_type": "display_data",
          "data": {
            "text/plain": [
              "<IPython.core.display.Javascript object>"
            ],
            "application/javascript": [
              "download(\"download_487b1ebc-272b-4a38-99e6-32d8802a9030\", \"heatmap.html\", 11200)"
            ]
          },
          "metadata": {}
        }
      ]
    },
    {
      "cell_type": "markdown",
      "source": [
        "# Contact Me\n",
        "<p>If you have something to say to me please contact me:</p>\n",
        "\n",
        "<ul>\n",
        "  <li>Twitter: <a href=\"https://twitter.com/Doguilmak\">Doguilmak</a></li>\n",
        "  <li>Mail address: doguilmak@gmail.com</li>\n",
        "</ul>"
      ],
      "metadata": {
        "id": "qdm4Gpc69dhq"
      }
    },
    {
      "cell_type": "code",
      "source": [
        "from datetime import datetime\n",
        "print(f\"Changes have been made to the project on {datetime.now().strftime('%Y-%m-%d %H:%M:%S')}\")"
      ],
      "metadata": {
        "colab": {
          "base_uri": "https://localhost:8080/"
        },
        "id": "MfNMBAmw7oDI",
        "outputId": "b61d488e-754b-4d54-a2a9-55aa57d35476"
      },
      "execution_count": 5,
      "outputs": [
        {
          "output_type": "stream",
          "name": "stdout",
          "text": [
            "Changes have been made to the project on 2023-08-25 09:40:31\n"
          ]
        }
      ]
    }
  ]
}